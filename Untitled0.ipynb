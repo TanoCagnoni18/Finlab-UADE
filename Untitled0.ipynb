{
  "nbformat": 4,
  "nbformat_minor": 0,
  "metadata": {
    "colab": {
      "provenance": [],
      "authorship_tag": "ABX9TyMt4499/HTYKbcdfWQCiQiM",
      "include_colab_link": true
    },
    "kernelspec": {
      "name": "python3",
      "display_name": "Python 3"
    },
    "language_info": {
      "name": "python"
    }
  },
  "cells": [
    {
      "cell_type": "markdown",
      "metadata": {
        "id": "view-in-github",
        "colab_type": "text"
      },
      "source": [
        "<a href=\"https://colab.research.google.com/github/TanoCagnoni18/Finlab-UADE/blob/main/Untitled0.ipynb\" target=\"_parent\"><img src=\"https://colab.research.google.com/assets/colab-badge.svg\" alt=\"Open In Colab\"/></a>"
      ]
    },
    {
      "cell_type": "markdown",
      "source": [
        "Ejercicio 1"
      ],
      "metadata": {
        "id": "Rr18BkYvyQDz"
      }
    },
    {
      "cell_type": "code",
      "execution_count": 17,
      "metadata": {
        "colab": {
          "base_uri": "https://localhost:8080/",
          "height": 35
        },
        "id": "8Ptdq8mbh5PN",
        "outputId": "5aed03b7-457f-4586-ea4b-de181a5cc6ea"
      },
      "outputs": [
        {
          "output_type": "execute_result",
          "data": {
            "text/plain": [
              "'Hola Mundo'"
            ],
            "application/vnd.google.colaboratory.intrinsic+json": {
              "type": "string"
            }
          },
          "metadata": {},
          "execution_count": 17
        }
      ],
      "source": [
        "#Punto 1\n",
        "\"Hola Mundo\""
      ]
    },
    {
      "cell_type": "code",
      "source": [
        "#Punto 2\n",
        "nombre = input('ingrese su nombre:')"
      ],
      "metadata": {
        "colab": {
          "base_uri": "https://localhost:8080/"
        },
        "id": "2m1tRIdgsBaJ",
        "outputId": "2e2fcd9b-6c29-4a77-8958-4d0a93aaaff7"
      },
      "execution_count": 15,
      "outputs": [
        {
          "name": "stdout",
          "output_type": "stream",
          "text": [
            "ingrese su nombre:Estanislao\n"
          ]
        }
      ]
    },
    {
      "cell_type": "code",
      "source": [
        "'Hola Estanislao'"
      ],
      "metadata": {
        "colab": {
          "base_uri": "https://localhost:8080/",
          "height": 35
        },
        "id": "iiV1V9RFtZSY",
        "outputId": "440711d7-2f17-44fa-f54e-1c08c6e031c3"
      },
      "execution_count": 25,
      "outputs": [
        {
          "output_type": "execute_result",
          "data": {
            "text/plain": [
              "'Hola Estanislao'"
            ],
            "application/vnd.google.colaboratory.intrinsic+json": {
              "type": "string"
            }
          },
          "metadata": {},
          "execution_count": 25
        }
      ]
    },
    {
      "cell_type": "code",
      "source": [
        "#Punto 3\n",
        "numero_1= 15\n",
        "numero_2= 10\n",
        "print(numero_1 + numero_2)"
      ],
      "metadata": {
        "colab": {
          "base_uri": "https://localhost:8080/"
        },
        "id": "JMJbHqiGumYU",
        "outputId": "cdd31e36-c5aa-432f-9b11-1f4ac18ee0c8"
      },
      "execution_count": 27,
      "outputs": [
        {
          "output_type": "stream",
          "name": "stdout",
          "text": [
            "25\n"
          ]
        }
      ]
    },
    {
      "cell_type": "code",
      "source": [
        "print(numero_1 - numero_2)"
      ],
      "metadata": {
        "colab": {
          "base_uri": "https://localhost:8080/"
        },
        "id": "GdsOAvYFyEJ2",
        "outputId": "702ba0ef-a461-450f-dccd-b76908c2ec96"
      },
      "execution_count": 28,
      "outputs": [
        {
          "output_type": "stream",
          "name": "stdout",
          "text": [
            "5\n"
          ]
        }
      ]
    },
    {
      "cell_type": "code",
      "source": [
        "#Punto 4 \n",
        "numero_1= 7\n",
        "numero_2= 10\n",
        "numero_3= 8\n",
        "print(numero_1 + numero_2 + numero_3)"
      ],
      "metadata": {
        "colab": {
          "base_uri": "https://localhost:8080/"
        },
        "id": "IVpuQ05ByKpW",
        "outputId": "1e0bbd6d-338e-41c5-a624-3f5ee668abe2"
      },
      "execution_count": 29,
      "outputs": [
        {
          "output_type": "stream",
          "name": "stdout",
          "text": [
            "25\n"
          ]
        }
      ]
    },
    {
      "cell_type": "code",
      "source": [
        "print((numero_1+numero_2+numero_3)/3)"
      ],
      "metadata": {
        "colab": {
          "base_uri": "https://localhost:8080/"
        },
        "id": "lzsi0iB0yo_1",
        "outputId": "82a927c6-f057-46df-b7c5-94a663177a7a"
      },
      "execution_count": 34,
      "outputs": [
        {
          "output_type": "stream",
          "name": "stdout",
          "text": [
            "8.333333333333334\n"
          ]
        }
      ]
    },
    {
      "cell_type": "code",
      "source": [
        "round(8.3333333333,2)"
      ],
      "metadata": {
        "colab": {
          "base_uri": "https://localhost:8080/"
        },
        "id": "Z6fOyaed2m8v",
        "outputId": "7cd06085-6750-4375-a721-66de9dcff794"
      },
      "execution_count": 38,
      "outputs": [
        {
          "output_type": "execute_result",
          "data": {
            "text/plain": [
              "8.33"
            ]
          },
          "metadata": {},
          "execution_count": 38
        }
      ]
    },
    {
      "cell_type": "code",
      "source": [
        "#Punto 5\n",
        "impuesto= 21.0 / 100\n",
        "precio= 12700\n",
        "precio * impuesto"
      ],
      "metadata": {
        "colab": {
          "base_uri": "https://localhost:8080/"
        },
        "id": "C3zD3W5D3ACH",
        "outputId": "ecb697dc-8222-423b-9a1f-cd7809e122bb"
      },
      "execution_count": 45,
      "outputs": [
        {
          "output_type": "execute_result",
          "data": {
            "text/plain": [
              "2667.0"
            ]
          },
          "metadata": {},
          "execution_count": 45
        }
      ]
    },
    {
      "cell_type": "markdown",
      "source": [
        "Ejercicio 2"
      ],
      "metadata": {
        "id": "eK9w7gl44V4w"
      }
    },
    {
      "cell_type": "code",
      "source": [
        "Nota_1= 5\n",
        "Nota_2= 10\n",
        "print((Nota_1+Nota_2)/2)"
      ],
      "metadata": {
        "colab": {
          "base_uri": "https://localhost:8080/"
        },
        "id": "4Uz_OsHy3uAk",
        "outputId": "af8e7580-8893-4d3b-94e9-0401c6599db1"
      },
      "execution_count": 47,
      "outputs": [
        {
          "output_type": "stream",
          "name": "stdout",
          "text": [
            "7.5\n"
          ]
        }
      ]
    },
    {
      "cell_type": "markdown",
      "source": [
        "Ejercicio 3"
      ],
      "metadata": {
        "id": "g71f4cxp4wch"
      }
    },
    {
      "cell_type": "code",
      "source": [],
      "metadata": {
        "id": "aVsXEd2h4ZGr"
      },
      "execution_count": null,
      "outputs": []
    }
  ]
}