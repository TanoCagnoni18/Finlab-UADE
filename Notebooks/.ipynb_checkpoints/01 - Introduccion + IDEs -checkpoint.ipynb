{
 "cells": [
  {
   "cell_type": "markdown",
   "metadata": {
    "id": "uBEu6N_ycrfP"
   },
   "source": [
    "# ¡Bienvenidos al curso de Financial Python!\n",
    "\n"
   ]
  },
  {
   "cell_type": "markdown",
   "metadata": {
    "id": "Z6IlHg_Aa1kn"
   },
   "source": [
    "Profe: Ing. Lic. Manuel Quintana (este) ->\n",
    "<img src='https://media-exp2.licdn.com/dms/image/C4D03AQF1LHk3b3-GSQ/profile-displayphoto-shrink_200_200/0/1655584068481?e=2147483647&v=beta&t=loNwlv9gaNLmQ7nd-GSraZsVaK8L8UB3LluTdurnAGM' />\n",
    "\n",
    "# ¿A qué me dedico?\n",
    "\n",
    "---\n",
    "\n",
    "\n",
    "**Subdirector de Infraestructura en el Congreso de la Nación.**\n",
    "\n",
    "Un poco de lo que hago:\n",
    "\n",
    "- Administración de infraestructura física: Gestión de activos, servidores físicos, cableado y redes.\n",
    "- Administración de infraestructura lógica: Active Directory, telefonía VoIP, sistemas de gestión integral, bases de datos, backups.\n",
    "- Gestión de seguridad.\n",
    "- Automatización de procesos.\n",
    "\n",
    "\n",
    "**En el campo de la ciencia de datos, fui consultor en el Banco Interamericano de Desarrollo.** \n",
    "\n",
    "Un poco de lo que hice:\n",
    "  - Análisis y limpieza de datos de índole económica.\n",
    "  - Consumo bulk de APIs / web scraping.\n",
    "  - Gestión de bases de datos.\n",
    "  - Desarrollo de dashboards para una plataforma de datos de comercio   internacional que se lanzó en 2021: TradeDatalake\n",
    "  - Desarrollo de un sistema predictivo (ML) para Nowcasting de variables económicas.\n",
    "  - Reporting de uso de comunidades en la red social del BID (Connectamericas).\n",
    "  - Administración de servidores y servicios AWS (IaaS).\n",
    "\n",
    "\n",
    "**Soy profe en:**\n",
    "- Fundamentos de informática para Ingeniería (FAIN)\n",
    "- Taller de programación 1 y 2 para Comunicación Digital (FACO)\n",
    "- Diplomatura en Ciencia de Datos (FAIN)\n",
    "- Aplicaciones financieras con Python (FACE)\n",
    "---\n",
    "\n",
    "**Los materiales con que estaremos trabajando los pueden encontrar en:**\n",
    "\n",
    "https://www.github.com/manquintana/Finlab-Uade\n",
    "\n",
    "**¿Consultas?**\n",
    "\n",
    "manquintana@uade.edu.ar\n",
    "\n"
   ]
  },
  {
   "cell_type": "markdown",
   "metadata": {
    "id": "50kRgLCxgEf_"
   },
   "source": [
    "\n",
    "\n",
    "---\n",
    "\n",
    "\n",
    "# Primeros conceptos que vamos a ver en este curso:\n",
    "\n",
    "- Pseudocódigo\n",
    "- Algoritmo\n",
    "- Programa\n",
    "- Instancia\n",
    "- Tipos de datos\n",
    "- Variables\n",
    "- Estructuras de control (la próxima clase)\n",
    "- Estructuras de datos (la próxima clase)\n",
    "- Programación orientada a objetos (la próxima clase)\n",
    "- Más cosas (las siguientes clases)\n",
    "\n",
    "¿Qué otros conceptos conocen?\n",
    "\n",
    "\n",
    "\n"
   ]
  },
  {
   "cell_type": "markdown",
   "metadata": {
    "id": "FeLeQsfm7SOu"
   },
   "source": [
    "---\n",
    "\n",
    "#Pseudocódigo\n",
    "\n",
    "Son pasos descriptos en un lenguaje lógico para poder realizar una acción.\n",
    "\n",
    "Ej: Una persona quiere beber una cerveza.\n",
    "\n",
    "- Agarrar un vaso\n",
    "- Agarrar una cerveza\n",
    "- Si se tiene un destapador entonces:\n",
    "  - Agarrar el destapador\n",
    "- Sino:\n",
    "  - Comprar un destapador\n",
    "  - Agarrar el destapador\n",
    "- Abrir la cerveza \n",
    "- Servirla en el vaso\n",
    "- Beber la cerveza del vaso"
   ]
  },
  {
   "cell_type": "markdown",
   "metadata": {
    "id": "ugpFw18b7WHR"
   },
   "source": [
    "---\n",
    "\n",
    "# Algoritmo\n",
    "\n",
    "Son pasos descriptos en un lenguaje lógico para poder realizar una acción. En nuestro caso tendrán el mismo nivel de detalle que un programa en python y respeta una sintaxis específica.\n",
    "\n",
    "Ej: Se ingresa la edad de una persona y se quiere indicar si es mayor o menor de edad.\n",
    "\n",
    "Mostrar(\"Ingrese su edad\")\n",
    "\n",
    "Ingresar(edad)\n",
    "\n",
    "Si (edad >= 18) Entonces\n",
    "\n",
    ">Mostrar(\"La persona es mayor de edad\")\n",
    "\n",
    "Sino\n",
    "\n",
    "> Mostrar (\"La persona es menor de edad\")\n",
    "\n",
    "FinSi\n",
    "\n",
    "\n",
    "\n"
   ]
  },
  {
   "cell_type": "markdown",
   "metadata": {
    "id": "EJ7k31Rn99uK"
   },
   "source": [
    "\n",
    "\n",
    "---\n",
    "# Programa\n",
    "\n",
    "\n",
    "Es la construcción de un algoritmo pero implementado en algún lenguaje de programación.\n",
    "\n",
    "Ej: Se ingresa la edad de una persona y se quiere indicar si es mayor o menor de edad."
   ]
  },
  {
   "cell_type": "code",
   "execution_count": null,
   "metadata": {
    "id": "03BsGR0y-Pg3"
   },
   "outputs": [],
   "source": [
    "edad = int(input('Ingrese su edad: '))\n",
    "if (edad >= 18): #T o F\n",
    "  print('La persona es mayor de edad')\n",
    "else:\n",
    "  print('La persona es menor de edad')\n"
   ]
  },
  {
   "cell_type": "markdown",
   "metadata": {
    "id": "GwWG1sMf-M_g"
   },
   "source": [
    "\n",
    "---\n",
    "# Instancia\n",
    "\n",
    "\n",
    "\n",
    "\n",
    "Un paso después. Es cada ejecución que se haga de un programa."
   ]
  },
  {
   "cell_type": "markdown",
   "metadata": {
    "id": "yMiLFb09_yUn"
   },
   "source": [
    "\n",
    "\n",
    "---\n",
    "\n",
    "\n",
    "# Tipos de datos\n",
    "\n",
    "Es la naturaleza de los datos. Cada tipo de dato tiene características particulares y comportamientos particulares.\n",
    "\n",
    "Ejemplos: Cadena de caracteres, números enteros, números decimales, booleanos (True/False), etc."
   ]
  },
  {
   "cell_type": "markdown",
   "metadata": {
    "id": "_ON_cLMvcge_"
   },
   "source": [
    "Python 3 ya tiene integrados varios tipos de datos. Los principales son los siguientes:\n",
    "\n",
    "- Tipos numéricos: int, float, complex\n",
    "- Tipos secuenciales: listas, tuplas y rango\n",
    "- Cadenas de caracteres: str\n",
    "- Secuencias binarias: bytes, bytearray y memoryview\n",
    "- Conjuntos: set, frozenset\n",
    "- Tipos Mapa: dict\n",
    "\n",
    "**¿Para qué creen que sirve cada uno?**\n",
    "\n",
    "[Fuente: https://docs.python.org/es/3/library/stdtypes.html consultada en 27/06/2022]"
   ]
  },
  {
   "cell_type": "markdown",
   "metadata": {
    "id": "bfQaXNmeAUh-"
   },
   "source": [
    "\n",
    "---\n",
    "\n",
    "\n",
    "# Variables\n",
    "\n",
    "Son espacios en memoria que almacenan datos.\n",
    "Como vimos antes, los datos tienen un tipo de dato asociado.\n",
    "\n",
    "Python es un lenguaje \"no fuertemente tipado\", por lo que no es necesario definir de manera explícita el tipo de dato que almacenará cada variable. Otros lenguajes como Java, sí lo requieren.\n",
    "\n",
    "Otra particularidad de Python es que es un lenguaje \"dinámicamente tipado\", es decir que una variable va a tomar automáticamente el tipo de dato acorde al dato que querramos almacenar en ella. **¿Y si más adelante se quiere almacenar un valor de otro tipo, qué creen que sucede?**"
   ]
  },
  {
   "cell_type": "code",
   "execution_count": null,
   "metadata": {
    "id": "5kfcohnfer6l"
   },
   "outputs": [],
   "source": [
    "mi_variable = 1\n",
    "type(mi_variable)"
   ]
  },
  {
   "cell_type": "code",
   "execution_count": null,
   "metadata": {
    "id": "uQOTD_FWexyZ"
   },
   "outputs": [],
   "source": [
    "# Ahora voy a sobreescribir el valor que tenía guardado por una cadena de caracteres\n",
    "mi_variable = 'Hola'\n",
    "type(mi_variable)"
   ]
  },
  {
   "cell_type": "markdown",
   "metadata": {
    "id": "Zumnnp2OluiH"
   },
   "source": [
    "---\n",
    "# IDE - Integrated Development Environment\n",
    "\n",
    "\n",
    "\n",
    "\n",
    "\n",
    "Un entorno de desarrollo integrado (IDE) es un sistema de software para el diseño de aplicaciones que combina herramientas comunes para desarrolladores en una sola interfaz de usuario gráfica (GUI). Generalmente, un IDE cuenta con las siguientes características:\n",
    "\n",
    "1. **Editor de código fuente**: editor de texto que ayuda a escribir el código de software con funciones como el resaltado de la sintaxis con indicaciones visuales, el relleno automático específico para el lenguaje y la comprobación de errores a medida que se escribe el código.\n",
    "\n",
    "2. **Automatización de compilaciones locales**: herramientas que automatizan tareas sencillas y repetitivas como parte de la creación de una compilación local del software para su uso por parte del desarrollador, como la compilación del código fuente de la computadora en un código binario, el empaquetado de ese código y la ejecución de pruebas automatizadas -> En el caso de Python este punto no aplica ya que no es necesario compilar el programa, ya que es un lenguaje interpretado que se ejecuta en tiempo real.\n",
    "\n",
    "3. **Depurador**: programa que sirve para probar otros programas y mostrar la ubicación de un error en el código original de forma gráfica.\n",
    "\n",
    "[Definición extraida del sitio de RedHat: https://www.redhat.com/es/topics/middleware/what-is-ide 27/06/2022]\n",
    "\n",
    "Entonces un IDE:\n",
    "- Es un software que facilita la tarea a la hora de programar.\n",
    "- Generalmente los IDEs funcionan para varios lenguajes de programación.\n",
    "- Suelen ofrecer autoindentación (es la alineación del código).\n",
    "- Suelen ofrecer descripción de los métodos que usamos.\n",
    "- Colores.\n",
    "- En casi todos los casos desde el mismo IDE se puede ejecutar el código.\n",
    "- Hay IDEs que son online y otros hay que instalarlos localmente.\n",
    "\n",
    "\n",
    "**IDEs recomendados para Python**\n",
    "- IDEs online:\n",
    "1. Google Colaboratory -> Permite trabajar con formato notebook y nos proporciona una máquina virtual para poder utilizar gratis\n",
    "2. repl.it (replit.com/languages/python3)\n",
    "\n",
    "- IDEs offline:\n",
    "1. Jupyter notebook -> Permite trabajar con formato notebook pero offline\n",
    "2. Spyder (IDE del paquete Anaconda): Muy útil para hacer análisis de datos y aplicaciones de Data Science en general.\n",
    "3. Visual Studio Code: Tiene muchísimos plugins para facilitar la programación\n",
    "4. Pycharm (muy parecido al Visual Studio)\n",
    "5. Notepad++ (este es más parecido a un editor de texto convencional)\n",
    "6. Thonny (este también)\n",
    "7. Sublime (este también es parecido a un editor de texto convencional, con la ventaja sobre los anteriores que soporta trabajar con archivos de gran tamaño)\n",
    "8. Vim editor (muy potente pero hay que aprender a utilizarlo con shortcuts de teclado para que se noten sus ventajas)\n",
    "\n",
    "\n",
    "- Otra opción es no utilizar IDE y en cambio ejecutar el código python desde una terminal.\n"
   ]
  },
  {
   "cell_type": "markdown",
   "metadata": {
    "id": "ZasaSL7zjN6_"
   },
   "source": [
    "# FIN DE LA INTRODUCCIÓN\n",
    "\n",
    "\n",
    "\n",
    "<img src=\"http://3.bp.blogspot.com/-lGZrui22uQ0/UZAvP3LEBXI/AAAAAAAACMQ/Y1Dxa2GfG-A/s1600/end+up.jpg\" />\n",
    "\n",
    "\n",
    "\n"
   ]
  },
  {
   "cell_type": "markdown",
   "metadata": {
    "id": "DTqswXydBequ"
   },
   "source": [
    "\n",
    "\n",
    "---\n",
    "\n",
    "\n",
    "# Comencemos con Python más a detalle, para eso estamos acá\n",
    "\n",
    "Python es un lenguaje de programación, particularmente facil de aprender, y soportado por todos los sistemas operativos del mercado. Es soportado por una una gran comunidad y y posee infinidad de librerías disponibles, que van desde crear interfaces de usuario, scripts, parseo de datos y es ampliamente utilizado en el análisis de datos y machine learning.\n",
    "\n",
    "Puedes aprender más sobre el lenguaje en [python.org](https://www.python.org/) y en [Python for Beginners](https://www.python.org/about/gettingstarted/).\n",
    "\n",
    "La idea de las siguientes clases no es solo introducirlos en el mundo de Python orientado a el análisis de datos, sino en la utilización de Notebooks, herramienta escencial para poder desarrollar sus actividades.\n",
    "\n",
    "Al momento de escribir este documento, estaremos trabajando con Python 3.6.7, pero generalmente, lo que hagamos es aplicable a cualquier version de Python 3.x. Sin embargo, cabe destacar que hay usuarios que utilizan por diferentes razones, Python 2.x que ha quedado relegado. Por temas de compatibilidad y para evitar problemas durante el transcurso de la cursada, si desean usar su propia laptop/pc y ejecutar localmente los ejercicios, verifiquen que se encuentren trabajando en Python 3.x\n",
    "\n",
    "<img src=\"https://media.tenor.com/images/8548721849652c377413cd5312a077aa/tenor.gif\"  width=\"300\" height=\"250\" />"
   ]
  },
  {
   "cell_type": "markdown",
   "metadata": {
    "id": "E9olGpk-jrbo"
   },
   "source": [
    "## Comentarios en Python\n",
    "\n",
    "Empecemos por el principio. En cualquier lenguaje de programación es importante documentar, y Python no es la excepción. Se recomienda siempre agregar comentario, particularmente a bloque de código que necesitan un contexto para comprender su funcionamiento. Para ello, en Python, como en otros lenguajes de programación, para comentar utilizamos el `#`. Agregando ese símbolo convertirá a lo que venga detras en un comentario, y sera ignorado por completo por el inteprete de Python.\n",
    "\n",
    "Ejemplo :"
   ]
  },
  {
   "cell_type": "code",
   "execution_count": null,
   "metadata": {
    "id": "724BCStqjyz9"
   },
   "outputs": [],
   "source": [
    "# Soy un hermoso comentario\n",
    "spam = 1  # Este es otro hermoso comentario\n",
    "          # ... ok.. no creo que sea tan hermoso\n",
    "text = \"# Piensas que soy un comentario? ERROR! como me encuentro entre \\\" \\\" soy una cadena de texto asignada, en este caso a una variable.\"\n",
    "print(text) # Despues explicaremos como funciona el print\n"
   ]
  },
  {
   "cell_type": "markdown",
   "metadata": {
    "id": "-WUP84u8j4tR"
   },
   "source": [
    "# Tipos de datos más a fondo"
   ]
  },
  {
   "cell_type": "markdown",
   "metadata": {
    "id": "8XMpGvW3kUbi"
   },
   "source": [
    "### Operadores numéricos\n",
    "\n",
    "A diferencia de lenguajes compilados como Java o C, Python utiliza un interprete para poder leer las sentencias y ejecutar el programa.\n",
    "\n",
    "¿Qué significa eso? que podemos dialogar directamente con Python sin necesidad de pasar por complejos procesos de desarrollo y compilación de programas para poder realizar pruebas.\n",
    "\n",
    "Los operadores que utilizaremos son los ampliamente conocidos, como `+`, `-`, y `/`. Algo a recordar es que los (`()`) se utilizan para agrupar y ordenar el orden de precedencia. No es lo mismo `(1+2)*3` que `1+(2*3)`\n",
    "Ejemplo:"
   ]
  },
  {
   "cell_type": "code",
   "execution_count": null,
   "metadata": {
    "id": "Icqdl5x7kgu6"
   },
   "outputs": [],
   "source": [
    "2 + 2"
   ]
  },
  {
   "cell_type": "code",
   "execution_count": null,
   "metadata": {
    "id": "qYsi61b9kjps"
   },
   "outputs": [],
   "source": [
    "50 - 5 * 6"
   ]
  },
  {
   "cell_type": "code",
   "execution_count": null,
   "metadata": {
    "id": "Bf5cR8Ggkf_-"
   },
   "outputs": [],
   "source": [
    "(50 - 5 * 6) / 4"
   ]
  },
  {
   "cell_type": "markdown",
   "metadata": {
    "id": "kKa3ehNbkpok"
   },
   "source": [
    "Los números enteros son por ejemplo `2, 3, 4, 5`, y son del tipo [`int`](https://docs.python.org/3.5/library/functions.html#int), y los fraccionarios  `2.5, 3.14, 4.5, 5.1` son del tipo [`float`](https://docs.python.org/3.5/library/functions.html#float)\n",
    "\n",
    "Algo a tener en cuenta, la división siempre retorna un `float`. Ahora, si quieres obtener solo la parte entrea puedas utilizar el operador `//`; o puedes calcular el resto usando `%`\n",
    "\n",
    "Veamos unos ejemplos:"
   ]
  },
  {
   "cell_type": "code",
   "execution_count": null,
   "metadata": {
    "id": "ItrD6gdokv_G"
   },
   "outputs": [],
   "source": [
    "17 / 3  # clasica división"
   ]
  },
  {
   "cell_type": "code",
   "execution_count": null,
   "metadata": {
    "id": "XJy7Q1REkwb8"
   },
   "outputs": [],
   "source": [
    "17 // 3  # División entera "
   ]
  },
  {
   "cell_type": "code",
   "execution_count": null,
   "metadata": {
    "id": "z6cnWF_rkxiA"
   },
   "outputs": [],
   "source": [
    "17 % 3  # Resto"
   ]
  },
  {
   "cell_type": "markdown",
   "metadata": {
    "id": "7XQqPaa8k1ME"
   },
   "source": [
    "Para calcular potencias, se utiliza el operador `**`"
   ]
  },
  {
   "cell_type": "code",
   "execution_count": null,
   "metadata": {
    "id": "uXL8GDOyk3oc"
   },
   "outputs": [],
   "source": [
    "5 ** 2 # 5 elevado al cuadrado"
   ]
  },
  {
   "cell_type": "code",
   "execution_count": null,
   "metadata": {
    "id": "7H-eOoSPk3_4"
   },
   "outputs": [],
   "source": [
    "2 ** 7"
   ]
  },
  {
   "cell_type": "markdown",
   "metadata": {
    "id": "aY3kjDL7k6oa"
   },
   "source": [
    "`**` tiene precedente sobre `-`; si deseas una base negativa, utiliza paréntesis."
   ]
  },
  {
   "cell_type": "code",
   "execution_count": null,
   "metadata": {
    "id": "yGBMCbYRk5Mi"
   },
   "outputs": [],
   "source": [
    "-3**2  # mismo resultado que -(3**2)"
   ]
  },
  {
   "cell_type": "code",
   "execution_count": null,
   "metadata": {
    "id": "qAP6LAMolCL0"
   },
   "outputs": [],
   "source": [
    "(-3)**2"
   ]
  },
  {
   "cell_type": "markdown",
   "metadata": {
    "id": "7pNsi1ThlJbo"
   },
   "source": [
    "**¿Y si queremos calcular la raíz cuadrada de un número?**"
   ]
  },
  {
   "cell_type": "code",
   "execution_count": null,
   "metadata": {
    "id": "bj0LPYfllNV5"
   },
   "outputs": [],
   "source": [
    "# Haz tu magia"
   ]
  },
  {
   "cell_type": "markdown",
   "metadata": {
    "id": "NVrTXxymsjxt"
   },
   "source": [
    "# Trabajando con variables\n",
    "\n",
    "El signo (`=`) asigna el valor a una variable."
   ]
  },
  {
   "cell_type": "code",
   "execution_count": null,
   "metadata": {
    "id": "5Q4wD1YnstlX"
   },
   "outputs": [],
   "source": [
    "ancho = 20\n",
    "alto = 10 * 90\n",
    "ancho * alto"
   ]
  },
  {
   "cell_type": "markdown",
   "metadata": {
    "id": "qyioqWqA2_qD"
   },
   "source": [
    "Una variable puede ser ingresada por teclado. Por ejemplo si le solicitamos al usuario que ingrese su nombre:"
   ]
  },
  {
   "cell_type": "code",
   "execution_count": null,
   "metadata": {
    "id": "lS2TXdVE3GXg"
   },
   "outputs": [],
   "source": [
    "nombre = input('Ingrese su nombre:')"
   ]
  },
  {
   "cell_type": "code",
   "execution_count": null,
   "metadata": {
    "id": "JuRfvxvs3KIH"
   },
   "outputs": [],
   "source": [
    "nombre"
   ]
  },
  {
   "cell_type": "markdown",
   "metadata": {
    "id": "nheE-eRR3L5c"
   },
   "source": [
    "Si solicitamos que se ingrese por teclado un número, hay que hacer un paso extra:"
   ]
  },
  {
   "cell_type": "code",
   "execution_count": null,
   "metadata": {
    "id": "3iMgr14W3QjA"
   },
   "outputs": [],
   "source": [
    "anio = input('Ingrese su año de nacimiento:') #¿Qué problema tiene esto?"
   ]
  },
  {
   "cell_type": "code",
   "execution_count": null,
   "metadata": {
    "id": "xNMZnpEE3YNY"
   },
   "outputs": [],
   "source": [
    "type(anio)"
   ]
  },
  {
   "cell_type": "markdown",
   "metadata": {
    "id": "B_oejiCe3aOx"
   },
   "source": [
    "Vemos que la variable `anio` es de tipo string. Hay que **castearla** a tipo \"entero\".\n",
    "\n",
    "Para esto hay dos formas.\n",
    "1. Hacerlo luego de guardar el año en la variable\n",
    "2. Hacerlo antes"
   ]
  },
  {
   "cell_type": "code",
   "execution_count": null,
   "metadata": {
    "id": "oenWU8s73uSN"
   },
   "outputs": [],
   "source": [
    "anio = input('Ingrese su año de nacimiento:')\n",
    "anio = int(anio)\n",
    "type(anio)"
   ]
  },
  {
   "cell_type": "code",
   "execution_count": null,
   "metadata": {
    "id": "SQ-omYX43zzC"
   },
   "outputs": [],
   "source": [
    "anio = int(input('Ingrese su año de nacimiento:'))\n",
    "type(anio)"
   ]
  },
  {
   "cell_type": "markdown",
   "metadata": {
    "id": "UrK_Zmy1sxtV"
   },
   "source": [
    "Como dijimos, Python asigna el tipo dinámicamente, entonces si queremos ver el tipo de dato de cada variable:"
   ]
  },
  {
   "cell_type": "code",
   "execution_count": null,
   "metadata": {
    "id": "MKRHh-H3s4p-"
   },
   "outputs": [],
   "source": [
    "type(ancho)"
   ]
  },
  {
   "cell_type": "code",
   "execution_count": null,
   "metadata": {
    "id": "1XNKGA6Rs9Em"
   },
   "outputs": [],
   "source": [
    "type(alto)"
   ]
  },
  {
   "cell_type": "markdown",
   "metadata": {
    "id": "n0siACr4tI51"
   },
   "source": [
    "Veamos otro ejemplo:"
   ]
  },
  {
   "cell_type": "code",
   "execution_count": null,
   "metadata": {
    "id": "5H-m7gfStKId"
   },
   "outputs": [],
   "source": [
    "c = 10\n",
    "a = 5\n",
    "b = a\n",
    "a = a + 5 #El resultado de esta operación es 10, también lo podemos escribir como a +=5 \n",
    "print(a)\n",
    "print(b)"
   ]
  },
  {
   "cell_type": "markdown",
   "metadata": {
    "id": "aFZbqyYYtQRs"
   },
   "source": [
    "¿Qué sucede? Como se puede observar, `a` apunta al objeto `5`, `b` apunta al mismo objeto que `a`. Ahora, `a` apunta a un nuevo objeto `10`, pero `b` sigue apuntando al objeto original, nunca ha actualizado su referencia, es por ello que el resultado de `b` sigue siendo `5`. \n",
    "\n",
    "**¿Como podrías hacer para actualizar el valor de `b`?**"
   ]
  },
  {
   "cell_type": "code",
   "execution_count": null,
   "metadata": {
    "id": "iqTYI6yptTdt"
   },
   "outputs": [],
   "source": [
    "# Insert magic here"
   ]
  },
  {
   "cell_type": "markdown",
   "metadata": {
    "id": "gkbyf0vke8IJ"
   },
   "source": [
    "Algo parecido sucede con los operadores. Se comportarán de acuerdo al tipo de dato con que se esté operando en cada caso:"
   ]
  },
  {
   "cell_type": "code",
   "execution_count": null,
   "metadata": {
    "id": "KjJbHH3tAPG2"
   },
   "outputs": [],
   "source": [
    "# En este caso como se trata de numeros, el operador <+> suma\n",
    "numero_1 = 1\n",
    "numero_2 = 3\n",
    "print(numero_1 + numero_2)"
   ]
  },
  {
   "cell_type": "code",
   "execution_count": null,
   "metadata": {
    "id": "2_BcmSYlAXEC"
   },
   "outputs": [],
   "source": [
    "# En este caso como se trata de cadenas de caracteres, el operador <+> concatena\n",
    "palabra_1 = \"hola\"\n",
    "palabra_2 = \"chau\"\n",
    "print(palabra_1 + palabra_2)"
   ]
  },
  {
   "cell_type": "markdown",
   "metadata": {
    "id": "qUpK2I-suWoj"
   },
   "source": [
    "Si una variable no se encuentra definida (con valor asignado) se podrá visualizar el siguiente error:"
   ]
  },
  {
   "cell_type": "code",
   "execution_count": null,
   "metadata": {
    "id": "cuJwhFRquXh_"
   },
   "outputs": [],
   "source": [
    "print(variable_trucha)"
   ]
  },
  {
   "cell_type": "markdown",
   "metadata": {
    "id": "ZNMptCXnuft6"
   },
   "source": [
    "Cuando nos encontramos en modo interactivo, o en este caso en Jupyter notebooks, la expresión del último comando impreso se asigna a una variable conocida como `_`. Esto significa que puedes seguir usando Python como una calculadora, particularmente simplifica continuar con cálculos que venías desarrollando como parte de tu investigación. "
   ]
  },
  {
   "cell_type": "code",
   "execution_count": null,
   "metadata": {
    "id": "O6LPywgZugdO"
   },
   "outputs": [],
   "source": [
    "impuesto = 12.5 / 100\n",
    "precio = 100.01\n",
    "precio * impuesto"
   ]
  },
  {
   "cell_type": "code",
   "execution_count": null,
   "metadata": {
    "id": "_C6blA0Dujyu"
   },
   "outputs": [],
   "source": [
    "precio + _"
   ]
  },
  {
   "cell_type": "code",
   "execution_count": null,
   "metadata": {
    "id": "Tzq0vKMduxIQ"
   },
   "outputs": [],
   "source": [
    "round(_, 2) # Comando que sirve para redondear resultados, en este caso le estamos solicitando que deje dos dígitos luego de la coma decimal"
   ]
  },
  {
   "cell_type": "markdown",
   "metadata": {
    "id": "3fxfjmEcu8-b"
   },
   "source": [
    "# Strings (cadenas de caracteres)\n",
    "\n",
    "Además de números, Python puede manipular cadenas, una de las principales ventajas de usar Python para el análisis de datos. \n",
    "\n",
    "Las cadenas se encierran entre comillas simples ('...') o comillas dobles (\"...\") dando el mismo resultado. Muy importante, se utiliza el símbolo \\ para \"escapar\" (evitar que el interprete identifique esa porción de cadena como instrucción) un caracter y poder seguir con la sentencia."
   ]
  },
  {
   "cell_type": "code",
   "execution_count": null,
   "metadata": {
    "id": "hundqAgAHM7A"
   },
   "outputs": [],
   "source": [
    "'Pikachu'  # Comillas simples."
   ]
  },
  {
   "cell_type": "code",
   "execution_count": null,
   "metadata": {
    "id": "fbsvUSJ9AOom"
   },
   "outputs": [],
   "source": [
    "'Pikachu \\'n Squirtle'# Usa \\' para escapar el caracter especial, donde lo agregaría?"
   ]
  },
  {
   "cell_type": "code",
   "execution_count": null,
   "metadata": {
    "id": "8067MUe9HM7B"
   },
   "outputs": [],
   "source": [
    "'doesn\\'t'  # Usa \\' para escapar el caracter especial, donde lo agregaría?"
   ]
  },
  {
   "cell_type": "code",
   "execution_count": null,
   "metadata": {
    "id": "cgfPMh0wHM7D"
   },
   "outputs": [],
   "source": [
    "\"doesn't\"  # Otra forma es utiliza doble comillas combinadas con simples"
   ]
  },
  {
   "cell_type": "code",
   "execution_count": null,
   "metadata": {
    "id": "ox2LFW_CHM7F"
   },
   "outputs": [],
   "source": [
    "'\"Yes,\" he said.' # Podemos combinar commilas simples con dobles, por ejemplo para resaltar una comentario"
   ]
  },
  {
   "cell_type": "code",
   "execution_count": null,
   "metadata": {
    "id": "sgIQY5gvHM7H"
   },
   "outputs": [],
   "source": [
    "\"\\\"Yes,\\\" he said.\" # porque usamos el símbolo de \\ aquí?"
   ]
  },
  {
   "cell_type": "markdown",
   "metadata": {
    "id": "xmdK_5w1vV54"
   },
   "source": [
    "Tanto en el interprete interactivo de Python como en los Jupyter notebooks, la salidad de las cadenas se encierran en comillas y caracteres especiales son escapados con `\\`.\n",
    "\n",
    "Aunque la salida puede lucir diferente comparado con la entrada, las cadenas son equivalentes. La cadena es encerrada en doble comillas si la cadena contiene comillas simples y no comillas dobles, de otra forma la cadena se encierra en comillas simples.\n",
    "\n",
    "La función [`print()`](https://docs.python.org/3.6/library/functions.html#print) produce una salida simple de leer omitiendo las comillas que encierran a la cadena y símbolos escapados. "
   ]
  },
  {
   "cell_type": "code",
   "execution_count": null,
   "metadata": {
    "id": "KKF-73QAvc1t"
   },
   "outputs": [],
   "source": [
    "print('Pikachu \\'n Squirtle')"
   ]
  },
  {
   "cell_type": "code",
   "execution_count": null,
   "metadata": {
    "id": "g7AIQkWdvn2k"
   },
   "outputs": [],
   "source": [
    "print(\"Pikachu \\'n Squirtle\")"
   ]
  },
  {
   "cell_type": "markdown",
   "metadata": {
    "id": "TI33PFd5vws0"
   },
   "source": [
    "Concatenación de líneas"
   ]
  },
  {
   "cell_type": "code",
   "execution_count": null,
   "metadata": {
    "id": "FMephbnevul4"
   },
   "outputs": [],
   "source": [
    "s = 'Primera Linea.' \n",
    "a = 'Segunda Linea.'  \n",
    "c = 'Tercera linea.'\n",
    "\n",
    "print(s, a, c)"
   ]
  },
  {
   "cell_type": "code",
   "execution_count": null,
   "metadata": {
    "id": "Djz2LXy9v0Zp"
   },
   "outputs": [],
   "source": [
    "s = 'Primera Linea.' \n",
    "a = 'Segunda Linea.'  \n",
    "c = 'Tercera linea.'\n",
    "\n",
    "concat = s+a+c\n",
    "concat"
   ]
  },
  {
   "cell_type": "code",
   "execution_count": null,
   "metadata": {
    "id": "DIKkzGK-v8FZ"
   },
   "outputs": [],
   "source": [
    "s = 'Primera Linea.' \n",
    "a = 'Segunda Linea.'  \n",
    "c = 'Tercera linea.'\n",
    "\n",
    "concat = f'{s} {a} {c}' #¿¿Pero qué rayos está haciendo este operador??\n",
    "concat"
   ]
  },
  {
   "cell_type": "markdown",
   "metadata": {
    "id": "DsPoVAIME6en"
   },
   "source": [
    "Veamos otro ejemplo:"
   ]
  },
  {
   "cell_type": "code",
   "execution_count": null,
   "metadata": {
    "id": "C9UtZ2z7E1pW"
   },
   "outputs": [],
   "source": [
    "nombre = 'Manuel' # Variable de tipo string\n",
    "apellido = 'Quintana'\n",
    "nombre_completo = f'Nombre: {nombre}, Apellido: {apellido}' # Variable de tipo string\n",
    "\n",
    "print(nombre_completo)"
   ]
  },
  {
   "cell_type": "markdown",
   "metadata": {
    "id": "kNwJVDAsFirE"
   },
   "source": [
    "El operador f indica que lo que aparezca de un string y esté entre llaves `{ }` es código python"
   ]
  },
  {
   "cell_type": "code",
   "execution_count": null,
   "metadata": {
    "id": "QwjE02ryFNF2"
   },
   "outputs": [],
   "source": [
    "print(f'1 + 1 = {1+1}') #En este caso es una operación"
   ]
  },
  {
   "cell_type": "markdown",
   "metadata": {
    "id": "0SWc7NtVyGld"
   },
   "source": [
    "Dos o más Cadenas literales encerradas en comillas puestas una al lado de otra, son automaticamente concatenadas."
   ]
  },
  {
   "cell_type": "code",
   "execution_count": null,
   "metadata": {
    "id": "8UmhYH5yyFpl"
   },
   "outputs": [],
   "source": [
    "s = 'Primera Linea.' 'Segunda Linea.' 'Tercera linea.'\n",
    "s"
   ]
  },
  {
   "cell_type": "markdown",
   "metadata": {
    "id": "KLXgAd6byRYa"
   },
   "source": [
    "La concatenación automática funciona solamente con dos cadenas literales, no funciona con variables o expresiones."
   ]
  },
  {
   "cell_type": "code",
   "execution_count": null,
   "metadata": {
    "id": "V9MejjpNyTGP"
   },
   "outputs": [],
   "source": [
    "s = 'Primera Linea.'\n",
    "s 'Segunda Linea.'"
   ]
  },
  {
   "cell_type": "markdown",
   "metadata": {
    "id": "rPwKA7syyizy"
   },
   "source": [
    "¿Cuando es útil la concatenación automática? \n",
    "\n",
    "Cuando queremos separar dos cadenas que son particularmente largas."
   ]
  },
  {
   "cell_type": "code",
   "execution_count": null,
   "metadata": {
    "id": "RjXynThPynEa"
   },
   "outputs": [],
   "source": [
    "text = ('Esto es una línea de código que no quiero que se extienda ' \n",
    "        'mucho porque sino queda una super linea larga, ' \n",
    "        'por ello, sigo debajo lo que me resulta cómodo para no tener '\n",
    "        'que usar dos monitores para poder leer esto, se entendió creo, '\n",
    "        'pero tambien podemos seguir escribiendo más cosas para hacer '\n",
    "        'un ejemplo bien descriptivo de la problemática actual.')\n",
    "\n",
    "print(text)"
   ]
  },
  {
   "cell_type": "markdown",
   "metadata": {
    "id": "sjT9_7gvwUET"
   },
   "source": [
    "Ahora bien, podemos encontrarnos en situaciones donde no necesitemos escapar un símbolo, y sea de utilidad el caracter \\ para ser integrado como parte de la cadena final. Para ello utilizamos el operador r al comenzar la sentencia. De esta forma, el interprete sabrá que lo que se ingrese como cadena debe mantener ese formato."
   ]
  },
  {
   "cell_type": "code",
   "execution_count": null,
   "metadata": {
    "id": "iZ09vwaXwW2I"
   },
   "outputs": [],
   "source": [
    "print('C:\\name_1\\name_2')  # recuerden que \\n significa nueva línea entonces cada vez que aparezca en una cadena, entenderá que tiene que hacer un salto de línea"
   ]
  },
  {
   "cell_type": "code",
   "execution_count": null,
   "metadata": {
    "id": "deHLrAmvweNC"
   },
   "outputs": [],
   "source": [
    "print(r'C:\\name_1\\name_2')  # Agregamos el operador r"
   ]
  },
  {
   "cell_type": "markdown",
   "metadata": {
    "id": "xsG6JeE1wxuE"
   },
   "source": [
    "# Cadenas multilínea.\n",
    "\n",
    "Las Cadenas literales puede ser distribuidas entre multiples líneas utilizando triple comillas ( Seguimos acumulando comillas =) ). \"\"\"...\"\"\" o '''...'''"
   ]
  },
  {
   "cell_type": "code",
   "execution_count": null,
   "metadata": {
    "id": "Nc9SLDDlw5UP"
   },
   "outputs": [],
   "source": [
    "print(\"\"\"\n",
    "Usage: thingy [OPTIONS]\n",
    "     -h                        Display this usage message\n",
    "     -H hostname               Hostname to connect to\n",
    "\"\"\")"
   ]
  },
  {
   "cell_type": "markdown",
   "metadata": {
    "id": "EjaoFxzBw-M1"
   },
   "source": [
    "Los finales de línea son automáticamente incluidos en la cadena. Es posible evitar esto agregando la contra barra \\ al final de la linea. Por ejemplo sin la \\ el siguiente ejemplo incluye líneas adicionales al comienzo de la salida.\n"
   ]
  },
  {
   "cell_type": "code",
   "execution_count": null,
   "metadata": {
    "id": "675FEzFCxF5P"
   },
   "outputs": [],
   "source": [
    "print(\"\"\"\\\n",
    "Usage: thingy [OPTIONS]\n",
    "     -h                        Display this usage message\n",
    "     -H hostname               Hostname to connect to\\\n",
    "\"\"\")"
   ]
  },
  {
   "cell_type": "markdown",
   "metadata": {
    "id": "F8vkzfmQxSzc"
   },
   "source": [
    "Debido a que Python no provee comentarios multi-lines, desarrolladores generalmente utilizan comillas triples para ese proposito. En los Jupyter notebooks, definen una cadena literal que aparece como salida, ya que el notebook se comporta como un interprete interactivo de Python."
   ]
  },
  {
   "cell_type": "code",
   "execution_count": null,
   "metadata": {
    "id": "zSkClucUxTaG"
   },
   "outputs": [],
   "source": [
    "\"\"\"\n",
    "Este es un comentario entre comillas triples que incluye nuevas lineas,\n",
    "sinceramente estaba considerando crear mi propia criptomoneda llamada 'Banana'\n",
    "pero alguien se me adelantó y ha iniciado dicho proyecto. Ahora gente puede\n",
    "cambiar dinero por 'Bananas' [BananaCoin](https://bananacoin.io/)\n",
    "\"\"\""
   ]
  },
  {
   "cell_type": "markdown",
   "metadata": {
    "id": "2B2TfkgbzEMf"
   },
   "source": [
    "# Slicing con cadenas\n",
    "\n",
    "\n",
    "\n",
    "Ahora empecemos con cosas avanzadas. Las cadenas pueden ser indexadas, con el primer caracter comenzando en 0. Quedense con esa idea, porque será interesante al momento de ver listas.\n",
    "\n",
    "<img src = 'https://encrypted-tbn0.gstatic.com/images?q=tbn:ANd9GcTZJIjs7VS52xZzfTrT0x4H7NsnoK9Gtj8Lysl5MXn8xJRSj8_5AlrRDpcpBamGHLtl87o&usqp=CAU' />"
   ]
  },
  {
   "cell_type": "code",
   "execution_count": null,
   "metadata": {
    "id": "-2NI1t_VHM7t"
   },
   "outputs": [],
   "source": [
    "word = 'Python'\n",
    "word[0]  # Posición 0 de la cadena"
   ]
  },
  {
   "cell_type": "code",
   "execution_count": null,
   "metadata": {
    "id": "xlrdu7YdHM7u"
   },
   "outputs": [],
   "source": [
    "word[5]  # Posición 5 de la cadena"
   ]
  },
  {
   "cell_type": "markdown",
   "metadata": {
    "id": "NtDqQ7A70Vb9"
   },
   "source": [
    "Si queremos conocer la longitud de una cadena podemos usar la función len()"
   ]
  },
  {
   "cell_type": "code",
   "execution_count": null,
   "metadata": {
    "id": "bOBidxS40ZvO"
   },
   "outputs": [],
   "source": [
    "len(word)"
   ]
  },
  {
   "cell_type": "markdown",
   "metadata": {
    "id": "hgA-PlCOzREP"
   },
   "source": [
    "Los índices pueden ser negativos, esto significa que comienza a contar desde el final de la cadena. Tener en cuenta que los índices negativos comienzan con -1, que viene a ser equivalente a 0 comenzando desde la izquierda."
   ]
  },
  {
   "cell_type": "code",
   "execution_count": null,
   "metadata": {
    "id": "aqSvvAfPHM7v"
   },
   "outputs": [],
   "source": [
    "word[-3]  # Teniendo en cuenta la última cadena, -1 es equivalente a 5"
   ]
  },
  {
   "cell_type": "code",
   "execution_count": null,
   "metadata": {
    "id": "e2XMMwZGHM7x"
   },
   "outputs": [],
   "source": [
    "word[-2]  # segundo caracter de la cadena comenzando desde el final"
   ]
  },
  {
   "cell_type": "markdown",
   "metadata": {
    "id": "qsBGQbDrzQ-L"
   },
   "source": [
    "Adicionalmente a los índices, Python soporta *Slicing* de subcadenas. Para realizarlo, debes indicar el rango de comienzo y final utilizando la siguiente notación entre llaves `start:end`.\n",
    "\n",
    "Algo a tener en cuenta **MUY IMPORTANTE** es que el caracter de comienzo `start` es incluido en la subcadena, mientras que el de `end` no lo es."
   ]
  },
  {
   "cell_type": "code",
   "execution_count": null,
   "metadata": {
    "id": "Dw6KJTr1HM75"
   },
   "outputs": [],
   "source": [
    "word[:2]   # Caracteres desde el comienzo hasta el 2 sin incluirlo"
   ]
  },
  {
   "cell_type": "code",
   "execution_count": null,
   "metadata": {
    "id": "GP173qZkzjo4"
   },
   "outputs": [],
   "source": [
    "# Es lo mismo que explicitar el 0\n",
    "word[0:2]"
   ]
  },
  {
   "cell_type": "code",
   "execution_count": null,
   "metadata": {
    "id": "scbDyS3FHM78"
   },
   "outputs": [],
   "source": [
    "word[-2:]  # Que sucede aquí?"
   ]
  },
  {
   "cell_type": "markdown",
   "metadata": {
    "id": "jtQeREFRHM7_"
   },
   "source": [
    "Cual sería el resultado de la siguiente operación? `s[:i] + s[i:]`?\n"
   ]
  },
  {
   "cell_type": "code",
   "execution_count": null,
   "metadata": {
    "id": "-NgqpuPhuBXL"
   },
   "outputs": [],
   "source": [
    "word[:2]"
   ]
  },
  {
   "cell_type": "code",
   "execution_count": null,
   "metadata": {
    "id": "Qsk63IF_uDL6"
   },
   "outputs": [],
   "source": [
    "word[2:]"
   ]
  },
  {
   "cell_type": "code",
   "execution_count": null,
   "metadata": {
    "id": "FSOBCVSmHM7_"
   },
   "outputs": [],
   "source": [
    "word[:2] + word[2:]"
   ]
  },
  {
   "cell_type": "markdown",
   "metadata": {
    "id": "yTL78gSyzyE3"
   },
   "source": [
    "Si utilizamos un índice fuera del rango de la cadena, obtendremos un mensaje de error."
   ]
  },
  {
   "cell_type": "code",
   "execution_count": null,
   "metadata": {
    "id": "-5qAAxYFzysu"
   },
   "outputs": [],
   "source": [
    "word[8]"
   ]
  },
  {
   "cell_type": "markdown",
   "metadata": {
    "id": "E_bvfC2iz3wg"
   },
   "source": [
    "Sin embargo, utilizando un rango, podemos extraer una subcadena independientemente del largo por default que tenga el tamaño de la cadena original. Esto es útil cuando quieres extraer algo particular sin tener en cuenta la longitud real de la cadena."
   ]
  },
  {
   "cell_type": "code",
   "execution_count": null,
   "metadata": {
    "id": "sEaAEQJpz5me"
   },
   "outputs": [],
   "source": [
    "word[2:20]"
   ]
  },
  {
   "cell_type": "markdown",
   "metadata": {
    "id": "xF8DTN9N0Kcm"
   },
   "source": [
    "Las cadenas de caracteres es [inmutable](https://docs.python.org/3.5/glossary.html#term-immutable), lo que significa que **no** puede ser cambiada. \n",
    "\n",
    "Por lo que asignarle un valor a una posición de índice de una cadena resulta en error."
   ]
  },
  {
   "cell_type": "code",
   "execution_count": null,
   "metadata": {
    "id": "1jrE03lp0PNW"
   },
   "outputs": [],
   "source": [
    "word[0] = 'J'"
   ]
  }
 ],
 "metadata": {
  "colab": {
   "authorship_tag": "ABX9TyPJpGr4eanff26WrZjJ8j+L",
   "collapsed_sections": [
    "uBEu6N_ycrfP",
    "Z6IlHg_Aa1kn",
    "50kRgLCxgEf_",
    "FeLeQsfm7SOu",
    "ugpFw18b7WHR",
    "GwWG1sMf-M_g"
   ],
   "name": "1 - Introduccion.ipynb",
   "provenance": []
  },
  "kernelspec": {
   "display_name": "Python 3 (ipykernel)",
   "language": "python",
   "name": "python3"
  },
  "language_info": {
   "codemirror_mode": {
    "name": "ipython",
    "version": 3
   },
   "file_extension": ".py",
   "mimetype": "text/x-python",
   "name": "python",
   "nbconvert_exporter": "python",
   "pygments_lexer": "ipython3",
   "version": "3.10.6"
  }
 },
 "nbformat": 4,
 "nbformat_minor": 1
}
