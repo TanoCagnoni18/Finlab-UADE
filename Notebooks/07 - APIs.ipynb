{
  "nbformat": 4,
  "nbformat_minor": 0,
  "metadata": {
    "colab": {
      "provenance": []
    },
    "kernelspec": {
      "name": "python3",
      "display_name": "Python 3"
    },
    "language_info": {
      "name": "python"
    }
  },
  "cells": [
    {
      "cell_type": "markdown",
      "metadata": {
        "id": "cckYndB1-e20"
      },
      "source": [
        "# APIs\n",
        "\n",
        "**¿Qué es una API?**\n",
        "\n",
        "- API significa “interfaz de programación de aplicaciones” (Application Programming Interface).\n",
        "- Las API son mecanismos que permiten a dos componentes de software comunicarse entre sí mediante un conjunto de definiciones y protocolos.\n",
        "- La \"interfaz\" puede considerarse como un **contrato** de servicio entre dos aplicaciones. Este contrato define cómo se comunican entre sí mediante solicitudes y respuestas. La documentación de su API contiene información sobre cómo los desarrolladores deben estructurar esas solicitudes y respuestas."
      ]
    },
    {
      "cell_type": "markdown",
      "source": [
        "\n",
        "\n",
        "---\n",
        "\n",
        "\n",
        "**Tipos de APIs**\n",
        "\n",
        "Existen varios tipos de APIs distintos, por ejemplo:\n",
        "1. **API SOAP**: Utilizan el protocolo simple de acceso a objetos (SOAP). El cliente y el servidor intercambian mensajes mediante XML.\n",
        "\n",
        "2. **RPC**: Estas API se denominan llamadas a procedimientos remotos. El cliente completa una función (o procedimiento) en el servidor, y el servidor devuelve el resultado al cliente.\n",
        "\n",
        "3. **API REST**: Estas son las API más populares y flexibles que se encuentran en la web actualmente. El cliente envía las solicitudes al servidor como datos. El servidor utiliza esta entrada del cliente para iniciar funciones internas y devuelve los datos de salida al cliente, generalmente en formato JSON.\n",
        "\n",
        "4. **WebSocket**: Utiliza objetos JSON para transmitir datos. Esta API admite la comunicación bidireccional entre las aplicaciones cliente y el servidor, es más complejo que la API REST.\n",
        "\n",
        "Si quieren estudiar más a detalle estos conceptos les sugiero visitar el [instructivo de APIs de AWS](https://aws.amazon.com/es/what-is/api/)\n"
      ],
      "metadata": {
        "id": "NgRJy0xYDkvr"
      }
    },
    {
      "cell_type": "markdown",
      "source": [
        "\n",
        "---\n",
        "\n",
        "# Consumir APIs\n",
        "\n",
        "Para consumir APIs, podemos bien valernos del manual de la API que el equipo de desarrollo haya desarrollado, o bien buscar APIs que disponibilicen datasets en la web. Hay varias páginas que nos ofrecen listados de APIs.\n",
        "\n",
        "**Importante**: Siempre leer el manual de la API para saber como se pide la información y cuál es el formato que devuelve!\n",
        "\n",
        "En este caso vamos a revisar el catálogo de APIs financieras de [RapidAPI](https://rapidapi.com/category/Finance)\n",
        "\n",
        "![image.png](data:image/png;base64,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)"
      ],
      "metadata": {
        "id": "osa7ri-kFSAH"
      }
    },
    {
      "cell_type": "markdown",
      "source": [
        "Vamos a elegir alguna que nos interese y hacer la prueba \"en vivo\" (puede fallar 😞)"
      ],
      "metadata": {
        "id": "DUGr8fpyGSxr"
      }
    },
    {
      "cell_type": "markdown",
      "source": [
        "Hoy cuando preparé la notebook probé esta API que era gratis y no pedía tarjeta de crédito <img src='https://cdn.memegenerator.es/imagenes/memes/full/23/50/23502525.jpg' />\n",
        "\n",
        "https://rapidapi.com/apidojo/api/bloomberg-market-and-financial-news"
      ],
      "metadata": {
        "id": "KkS62HYZG7wl"
      }
    },
    {
      "cell_type": "markdown",
      "source": [
        "Podemos usar Reqbin o Postman para probar la conexión a la API sin escribir código, pero RapidAPI ya tiene su propio tester de conexión así que lo podemos probar desde ahí mismo.\n",
        "\n",
        "Veamos: Primero tenemos que leer en el manual, cómo consumir esa API.\n",
        "- URL destino.\n",
        "- Parámetros que deben agregarse.\n",
        "- Si requiere registrarse, tendremos que incluir nuestro Token.\n",
        "- Etc.\n",
        "\n",
        "RapidAPI ya nos auto-completa los campos necesarios por lo que no hace falta leer tanto ;-)\n",
        "\n",
        "Hagamos la prueba\n",
        "\n",
        "... VAMOS AL LINK: https://rapidapi.com/apidojo/api/bloomberg-market-and-financial-news\n",
        "\n",
        "...\n",
        "\n",
        "...\n",
        "\n",
        "...\n",
        "\n",
        "...\n",
        "\n",
        "..."
      ],
      "metadata": {
        "id": "N7WTrJ-GKcgR"
      }
    },
    {
      "cell_type": "markdown",
      "source": [
        "Y si queremos hacerlo desde Python:"
      ],
      "metadata": {
        "id": "vEHgf9sgMztf"
      }
    },
    {
      "cell_type": "code",
      "source": [
        "import requests\n",
        "\n",
        "# URL de la API\n",
        "url = \"https://bloomberg-market-and-financial-news.p.rapidapi.com/market/auto-complete\"\n",
        "querystring = {\"query\":\"MSFT\"} # en este caso buscamos acciones y noticias de Microsoft\n",
        "\n",
        "# En este caso la API pide suscripción, asi que tenemos que crear una Key para nuestro usuario y agregarla como parámetro.\n",
        "headers = { \n",
        "\t\"X-RapidAPI-Key\": \"d010f37c8dmshc0a31023f1507f9p132587jsn3e932f49664b\",\n",
        "\t\"X-RapidAPI-Host\": \"bloomberg-market-and-financial-news.p.rapidapi.com\"\n",
        "}\n",
        "\n",
        "# Ejecutamos la consulta\n",
        "response = requests.get(url, headers=headers, params=querystring) \n",
        "\n",
        "# Veamos cual es la respuesta:\n",
        "response"
      ],
      "metadata": {
        "id": "_MHjwL41GdEg"
      },
      "execution_count": null,
      "outputs": []
    },
    {
      "cell_type": "markdown",
      "source": [
        "En comunicaciones HTTP a través de internet, se utilizan códigos de respuesta para indicar el estado de la consulta. Estos quedan asociados a cada API al momento de programar la API (nosotros solo la estamos consumiendo por lo que recibimos el código).\n",
        "\n",
        "1. Informational responses (100 – 199)\n",
        "2. Successful responses (200 – 299)\n",
        "3. Redirection messages (300 – 399)\n",
        "4. Client error responses (400 – 499)\n",
        "5. Server error responses (500 – 599)\n",
        "\n",
        "El código de respuesta 200 significa \"Successful\", es decir que la petición funcionó correctamente.\n",
        "\n",
        "Más información acerca de cada código de error: [Mozilla HTTP response codes](https://developer.mozilla.org/en-US/docs/Web/HTTP/Status)"
      ],
      "metadata": {
        "id": "GQ73-kqRIddd"
      }
    },
    {
      "cell_type": "markdown",
      "source": [
        "---\n",
        "\n",
        "Dijimos que esa API en particular nos devuelve un objeto JSON como respuesta a \n",
        "nuestra petición. Si queremos acceder al objeto en cuestión podemos pedirle a Python que nos muestre el contenido JSON en lugar del código."
      ],
      "metadata": {
        "id": "XcfcsHBzJQFN"
      }
    },
    {
      "cell_type": "code",
      "source": [
        "response.json() # Analicemos la estructura de este archivo JSON"
      ],
      "metadata": {
        "id": "sXYRN9XjIdG8"
      },
      "execution_count": null,
      "outputs": []
    },
    {
      "cell_type": "markdown",
      "source": [
        "**PRO TIP**: Podemos usar un validador de JSON Online para analizarlo de una manera más sencilla, por ejemplo: https://codebeautify.org/jsonviewer o poner \"json validator\" o \"json viewer\" en Google y van a aparecer unos cuantos.\n",
        "\n",
        "- Rapid API ya nos ofrecia esta forma de ver el documento en formato de árbol, lo que es muy cómodo para trabajar. Vayamos allí y veamos cuales son las Keys que nos devolvió el JSON.\n",
        "\n",
        "Tip: Son 'quote' y 'news'."
      ],
      "metadata": {
        "id": "w-ZlGK6ONc7W"
      }
    },
    {
      "cell_type": "code",
      "source": [
        "response.json()['quote']"
      ],
      "metadata": {
        "id": "W6OCjgl5NP-z"
      },
      "execution_count": null,
      "outputs": []
    },
    {
      "cell_type": "code",
      "source": [
        "response.json()['news']"
      ],
      "metadata": {
        "id": "KMNSlSzAOn9j"
      },
      "execution_count": null,
      "outputs": []
    },
    {
      "cell_type": "markdown",
      "source": [
        "¿Es un poco engorroso de analizar, cierto?\n",
        "\n",
        "Bueno, es momento de introducir la librería Pandas (será el tema de la clase que viene). \n",
        "<img src= 'https://images.theconversation.com/files/430483/original/file-20211105-9897-18ahqx2.jpg?ixlib=rb-1.1.0&q=45&auto=format&w=1200&h=1200.0&fit=crop' />"
      ],
      "metadata": {
        "id": "pqQD0UNGOupG"
      }
    },
    {
      "cell_type": "code",
      "source": [
        "import pandas as pd\n",
        "news_df = pd.DataFrame(response.json()['news'])\n",
        "news_df"
      ],
      "metadata": {
        "id": "HjGa_phPHfap"
      },
      "execution_count": null,
      "outputs": []
    },
    {
      "cell_type": "code",
      "source": [
        "# Y si quiero hacer lo mismo pero para la otra clave?\n"
      ],
      "metadata": {
        "id": "LxcJS6LRPEJO"
      },
      "execution_count": null,
      "outputs": []
    }
  ]
}